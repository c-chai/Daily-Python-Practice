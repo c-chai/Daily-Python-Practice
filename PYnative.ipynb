{
 "cells": [
  {
   "cell_type": "markdown",
   "metadata": {},
   "source": [
    "### Python Basic Exercise for Beginners"
   ]
  },
  {
   "cell_type": "code",
   "execution_count": null,
   "metadata": {},
   "outputs": [],
   "source": [
    "# Exercise 1: Calculate the multiplication and sum of two numbers \n",
    "# Given two integer numbers, return their product only if the product is equal to or lower than 1000. \n",
    "# Otherwise, return their sum.\n",
    "\n",
    "def multiplication_or_sum(num1, num2):\n",
    "    product = num1 * num2\n",
    "    if product <= 1000:\n",
    "        return product \n",
    "    else:\n",
    "        # Product is greater than 1000, calculate sum \n",
    "        return num1 + num2 \n",
    "    \n",
    "# First condition \n",
    "result = multiplication_or_sum(20, 30)\n",
    "print(f'The result is {result}')\n",
    "\n",
    "# Second condition\n",
    "result = multiplication_or_sum(40, 30)\n",
    "print(f'The result is {result}')\n"
   ]
  },
  {
   "cell_type": "code",
   "execution_count": null,
   "metadata": {},
   "outputs": [],
   "source": [
    "# Exercise 2: Print the sum of the current number and the previous number\n",
    "# Iterate the first 10 numbers, and in each iteration, print sum of current and previous number \n",
    "\n",
    "print('Printing current and previous number and their sum in a range(10)')\n",
    "previous_num = 0 \n",
    "\n",
    "# Loop from 1 - 10  \n",
    "for i in range(1, 11):\n",
    "    x_sum = previous_num + i\n",
    "    print(f'Current Number, {i}, Previous Number, {previous_num}, Sum: {x_sum}')\n",
    "    previous_num = i "
   ]
  },
  {
   "cell_type": "code",
   "execution_count": null,
   "metadata": {},
   "outputs": [],
   "source": [
    "# Exercise 3: Print characters from a string that are present at an even index number\n",
    "# Accept a string from a user and display characters that are present at an even index number \n",
    "\n",
    "user_input = input('Enter a word and I will split it at an even index number: ')\n",
    "print(f'Original string: {user_input}')\n",
    "\n",
    "size = len(user_input)\n",
    "\n",
    "# Iterate each character of the string \n",
    "# Starting with 0, size-1, and 2 is for getting even index \n",
    "print('Printing only even index characters...')\n",
    "for i in range(0, size-1, 2):\n",
    "    print('index[\", i , \"]', user_input[i])\n",
    "\n",
    "# If you want to use list slicing \n",
    "# x = list(user_input)\n",
    "# for i in x[0::2]:\n",
    "    # print(i)"
   ]
  },
  {
   "cell_type": "code",
   "execution_count": 1,
   "metadata": {},
   "outputs": [
    {
     "name": "stdout",
     "output_type": "stream",
     "text": [
      "Removing characters from a string\n",
      "Original string: butterfly\n",
      "erfly\n",
      "Original string: violin\n",
      "olin\n"
     ]
    }
   ],
   "source": [
    "# Exercise 4: Remove first n characters from a string \n",
    "# Remove characters from a string starting from 0 up to n and return a new string \n",
    "\n",
    "def remove_chars(word, n):\n",
    "    print(f'Original string: {word}')\n",
    "    x = word[n:]\n",
    "    return x\n",
    "\n",
    "print('Removing characters from a string')\n",
    "print(remove_chars('butterfly', 4))\n",
    "print(remove_chars('violin', 2))"
   ]
  },
  {
   "cell_type": "code",
   "execution_count": 2,
   "metadata": {},
   "outputs": [
    {
     "name": "stdout",
     "output_type": "stream",
     "text": [
      "Given list: [10, 20, 30, 40, 10]\n",
      "Result is True\n",
      "Given list: [75, 65, 35, 75, 30]\n",
      "Result is False\n"
     ]
    }
   ],
   "source": [
    "# Exercise 5: Check if the first and last number of a list is the same \n",
    "# Return True if the first and last number of a given list is the same \n",
    "\n",
    "def first_last_same(numberList):\n",
    "    print(f'Given list: {numberList}')\n",
    "\n",
    "    first_num = numberList[0]\n",
    "    last_num = numberList[-1]\n",
    "\n",
    "    if first_num == last_num: \n",
    "        return True\n",
    "    else:\n",
    "        return False\n",
    "    \n",
    "numbers_x = [10, 20, 30, 40, 10]\n",
    "print('Result is', first_last_same(numbers_x))\n",
    "numbers_y = [75, 65, 35, 75, 30]\n",
    "print('Result is', first_last_same(numbers_y))"
   ]
  },
  {
   "cell_type": "code",
   "execution_count": 1,
   "metadata": {},
   "outputs": [
    {
     "name": "stdout",
     "output_type": "stream",
     "text": [
      "Given list: [10, 20, 33, 46, 55]\n",
      "Divisble by 5:\n",
      "10\n",
      "20\n",
      "55\n"
     ]
    }
   ],
   "source": [
    "# Exercise 6: Display numbers divisble by 5 from a list\n",
    "# Iterate the given list of humbers and print only those numbers which are divisible by 5 \n",
    "\n",
    "lst = [10, 20, 33, 46, 55]\n",
    "print(f'Given list: {lst}')\n",
    "print('Divisible by 5:')\n",
    "for num in lst:\n",
    "    if num % 5 == 0:\n",
    "        print(num)\n",
    "    else: \n",
    "        None"
   ]
  }
 ],
 "metadata": {
  "kernelspec": {
   "display_name": "Python 3",
   "language": "python",
   "name": "python3"
  },
  "language_info": {
   "codemirror_mode": {
    "name": "ipython",
    "version": 3
   },
   "file_extension": ".py",
   "mimetype": "text/x-python",
   "name": "python",
   "nbconvert_exporter": "python",
   "pygments_lexer": "ipython3",
   "version": "3.12.1"
  }
 },
 "nbformat": 4,
 "nbformat_minor": 2
}
