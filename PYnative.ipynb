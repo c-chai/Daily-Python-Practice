{
 "cells": [
  {
   "cell_type": "markdown",
   "metadata": {},
   "source": [
    "### Python Basic Exercise for Beginners"
   ]
  },
  {
   "cell_type": "code",
   "execution_count": null,
   "metadata": {},
   "outputs": [],
   "source": [
    "# Exercise 1: Calculate the multiplication and sum of two numbers \n",
    "# Given two integer numbers, return their product only if the product is equal to or lower than 1000. \n",
    "# Otherwise, return their sum.\n",
    "\n",
    "def multiplication_or_sum(num1, num2)\n",
    "    product = num1 * num2\n",
    "    if product <= 1000:\n",
    "        return product \n",
    "    else:\n",
    "        # Product is greater than 1000, calculate sum \n",
    "        return num1 + num2 \n",
    "    \n",
    "# First condition \n",
    "result = multiplication_or_sum(20, 30)\n",
    "print(f'The result is {result}')\n",
    "\n",
    "# Second condition\n",
    "result = multiplication_or_sum(40, 30)\n",
    "print(f'The result is {result}')\n"
   ]
  }
 ],
 "metadata": {
  "kernelspec": {
   "display_name": "Python 3",
   "language": "python",
   "name": "python3"
  },
  "language_info": {
   "codemirror_mode": {
    "name": "ipython",
    "version": 3
   },
   "file_extension": ".py",
   "mimetype": "text/x-python",
   "name": "python",
   "nbconvert_exporter": "python",
   "pygments_lexer": "ipython3",
   "version": "3.12.1"
  }
 },
 "nbformat": 4,
 "nbformat_minor": 2
}
