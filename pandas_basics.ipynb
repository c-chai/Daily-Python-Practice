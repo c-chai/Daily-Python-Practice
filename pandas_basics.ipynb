{
 "cells": [
  {
   "cell_type": "markdown",
   "metadata": {},
   "source": [
    "Some concepts of pandas library"
   ]
  },
  {
   "cell_type": "code",
   "execution_count": null,
   "metadata": {},
   "outputs": [],
   "source": [
    "import pandas as pd\n",
    "\n",
    "# Reads data from csv file into a DataFrame\n",
    "df = pd.read_csv('theFile.csv') \n",
    "\n",
    "# Writes data from a DataFrame to a csv file\n",
    "df.to_csv()\n",
    "\n",
    "# Returns the first n rows of the DataFrame\n",
    "df.head()\n",
    "\n",
    "# Returns the last n rows of the DataFrame\n",
    "df.tail()\n",
    "\n",
    "# Provides a summmary stats of numerical columns in the DataFrame\n",
    "df.describe()\n",
    "\n",
    "# Gives a concise summary of the DataFrame including column types and non-null values \n",
    "df.info()\n",
    "\n",
    "# Merges two DataFrames along common columns or indices\n",
    "df.merge([df1, df2], on='common_column')\n",
    "\n",
    "# Concats pandas objects along a particualr axis\n",
    "pd.concat([df1, df2], axis=0)\n",
    "\n",
    "# Groups DataFrames using a mapper or by a series of columns\n",
    "df.groupby('column_name').mean()\n",
    "\n",
    "# Creates a spreadsheet-style pivot table as DataFrame\n",
    "df.pivot_table(values='D', index=['A', 'B'], columns=['C'])\n",
    "\n",
    "# Drops specified labels from rows or columns\n",
    "df.drop('column', axis=1)\n",
    "\n",
    "# Removes missing values \n",
    "df.dropna()\n",
    "\n",
    "# Replaces missing values with specified value\n",
    "df.fillna(value)\n",
    "\n",
    "# Sorts the data in the DataFrame based on values \n",
    "df.sort_values(by='column')"
   ]
  }
 ],
 "metadata": {
  "kernelspec": {
   "display_name": "Python 3",
   "language": "python",
   "name": "python3"
  },
  "language_info": {
   "codemirror_mode": {
    "name": "ipython",
    "version": 3
   },
   "file_extension": ".py",
   "mimetype": "text/x-python",
   "name": "python",
   "nbconvert_exporter": "python",
   "pygments_lexer": "ipython3",
   "version": "3.12.1"
  }
 },
 "nbformat": 4,
 "nbformat_minor": 2
}
